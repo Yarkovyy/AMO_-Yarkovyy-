{
 "cells": [
  {
   "cell_type": "markdown",
   "metadata": {},
   "source": [
    "---\n",
    "title: 'Лабораторна робота №4. Алгоритми пошуку. Стратегія \"грубої сили\". (short version)'\n",
    "description:\n",
    "   Документ зроблено за допомогою [Quarto](https://quarto.org/)\n",
    "author: \"Яркоий Тимофій\"\n",
    "date: \"04.08.2024\"\n",
    "lang: ukr\n",
    "format:\n",
    "  html:\n",
    "    code-fold: true\n",
    "    toc: true # меню\n",
    "    toc_float: # спливаюче меню  \n",
    "      collapsed: true # авто\n",
    "      number_sections: true\n",
    "jupyter: python3\n",
    "---"
   ]
  },
  {
   "cell_type": "markdown",
   "metadata": {},
   "source": [
    "## Реалізація лінійного пошуку на Python"
   ]
  },
  {
   "cell_type": "code",
   "execution_count": 3,
   "metadata": {},
   "outputs": [],
   "source": [
    "# Якщо елемент не буде знайдено, виводиться -1\n",
    "def linear_search(a_list, x):\n",
    "    i, length = 0, len(a_list)\n",
    "    while i < length and x != a_list[i]:\n",
    "        i += 1\n",
    "    return i if i < length else -1   "
   ]
  },
  {
   "cell_type": "code",
   "execution_count": 4,
   "metadata": {},
   "outputs": [
    {
     "name": "stdin",
     "output_type": "stream",
     "text": [
      "Введіть шуканий елемент:  5\n"
     ]
    }
   ],
   "source": [
    "search_item = int(input(\"Введіть шуканий елемент: \"))"
   ]
  },
  {
   "cell_type": "code",
   "execution_count": 5,
   "metadata": {},
   "outputs": [
    {
     "data": {
      "text/plain": [
       "-1"
      ]
     },
     "execution_count": 5,
     "metadata": {},
     "output_type": "execute_result"
    }
   ],
   "source": [
    "a = [32, 1, 3, 4, 2, 1]\n",
    "linear_search(a, search_item)"
   ]
  },
  {
   "cell_type": "markdown",
   "metadata": {},
   "source": [
    "__Завдання на самостійну роботу:__ Оцінити асимптотичну складність алгоритму лінійного пошуку у $О$-нотації.\n",
    "\n",
    "Складність O(n)"
   ]
  },
  {
   "cell_type": "markdown",
   "metadata": {},
   "source": [
    "\n",
    "## Пошук у відсортованому масиві. Бінарний пошук "
   ]
  },
  {
   "cell_type": "code",
   "execution_count": 6,
   "metadata": {},
   "outputs": [],
   "source": [
    "def bin_search(a_list, x, left, right):\n",
    "    if left > right or len(a_list) == 0:\n",
    "        return -1\n",
    "    middle = (left + right) // 2\n",
    "    if a_list[middle] == x:\n",
    "        return middle\n",
    "    elif (a_list[middle] < x):\n",
    "        return bin_search(a_list, x, middle + 1, right)\n",
    "    else:       # a_list[middle] > x\n",
    "        return bin_search(a_list, x, left, middle - 1)"
   ]
  },
  {
   "cell_type": "code",
   "execution_count": 7,
   "metadata": {},
   "outputs": [],
   "source": [
    "a = range(7,21)"
   ]
  },
  {
   "cell_type": "code",
   "execution_count": 8,
   "metadata": {},
   "outputs": [
    {
     "name": "stdin",
     "output_type": "stream",
     "text": [
      "Введіть шуканий елемент:  5\n"
     ]
    }
   ],
   "source": [
    "search_item = int(input(\"Введіть шуканий елемент: \"))"
   ]
  },
  {
   "cell_type": "code",
   "execution_count": 9,
   "metadata": {},
   "outputs": [
    {
     "data": {
      "text/plain": [
       "-1"
      ]
     },
     "execution_count": 9,
     "metadata": {},
     "output_type": "execute_result"
    }
   ],
   "source": [
    "bin_search(a, search_item, 0, len(a) - 1)"
   ]
  },
  {
   "cell_type": "markdown",
   "metadata": {},
   "source": [
    "__Завдання на самостійну роботу__:\n",
    "\n",
    "* Оцінити асимптотичну складність алгоритму бінарного пошуку пошуку у $О$-нотації.\n",
    "\n",
    "  Асимптотична складність O(log(n)).\n",
    "  \n",
    "* написати функцію, яка б могла повертати датафрейм з наступним складом полів: (\"n\", \"time\"), де `n` -- розмір масиву для функції `linear_searh();\n",
    "* написати функцію, яка б могла повертати датафрейм з наступним складом полів: (\"n\", \"time\"), де `n` -- розмір масиву для функції `bin_searh();\n",
    "* за результатами попередніх завдань побудувати графіки залежності часу виконання процедури пошуку від розміру масиву. Приклад побудови графіків у середовищі `Ipython` можна подивитися [тут](https://devpractice.ru/python-lesson-6-work-in-jupyter-notebook/).  \n",
    "* оцінити, який з двох алгоритмів є більш ефективним та в якому діапазоні розміру задачі.\n",
    "\n",
    "\n"
   ]
  },
  {
   "cell_type": "markdown",
   "metadata": {},
   "source": [
    "## Написати функцію, яка б могла повертати датафрейм з наступним складом полів: (“n”, “time”), де n – розмір масиву для функції `linear_searh()"
   ]
  },
  {
   "cell_type": "code",
   "execution_count": 10,
   "metadata": {},
   "outputs": [],
   "source": [
    "import pandas as pd\n",
    "import numpy as np\n",
    "from datetime import datetime\n",
    "import random\n",
    "from array import array\n",
    "import time\n",
    "\n",
    "Nlist=[0, 5, 50, 500, 5000, 50000, 500000, 5000000, 50000000]\n",
    "Tlist=[0]\n",
    "\n",
    "\n",
    "\n",
    "\n",
    "\n",
    "def linear_search(a_list, x):\n",
    "    i, length = 0, len(a_list)\n",
    "    while i < length and x != a_list[i]:\n",
    "        i += 1\n",
    "    return i if i < length else -1   \n",
    "\n",
    "\n",
    "\n",
    "i=0\n",
    "I1 = []\n",
    "for i in range(5):\n",
    "    I1.append(++i)\n",
    "    \n",
    "i=0    \n",
    "I2 = []\n",
    "for i in range(50):\n",
    "    I2.append(++i)\n",
    "\n",
    "i=0    \n",
    "I3 = []\n",
    "for i in range(500):\n",
    "    I3.append(++i)\n",
    "\n",
    "i=0\n",
    "I4 = []\n",
    "for i in range(5000):\n",
    "    I4.append(++i)\n",
    "    \n",
    "i=0\n",
    "I5 = []\n",
    "for i in range(50000):\n",
    "    I5.append(++i)\n",
    "\n",
    "i=0\n",
    "I6 = []\n",
    "for i in range(500000):\n",
    "    I6.append(++i)\n",
    "\n",
    "\n",
    "\n",
    "\n",
    "i=0\n",
    "\n",
    "I7 = []\n",
    "for i in range(5000000):\n",
    "    I7.append(++i)\n",
    "\n",
    "i=0\n",
    "I8 = []\n",
    "for i in range(50000000):\n",
    "    I8.append(++i)\n",
    "\n",
    "\n",
    "\n",
    "\n",
    "\n",
    "\n",
    "\n"
   ]
  },
  {
   "cell_type": "code",
   "execution_count": 11,
   "metadata": {},
   "outputs": [
    {
     "data": {
      "text/html": [
       "<div>\n",
       "<style scoped>\n",
       "    .dataframe tbody tr th:only-of-type {\n",
       "        vertical-align: middle;\n",
       "    }\n",
       "\n",
       "    .dataframe tbody tr th {\n",
       "        vertical-align: top;\n",
       "    }\n",
       "\n",
       "    .dataframe thead th {\n",
       "        text-align: right;\n",
       "    }\n",
       "</style>\n",
       "<table border=\"1\" class=\"dataframe\">\n",
       "  <thead>\n",
       "    <tr style=\"text-align: right;\">\n",
       "      <th></th>\n",
       "      <th>num</th>\n",
       "      <th>time</th>\n",
       "    </tr>\n",
       "  </thead>\n",
       "  <tbody>\n",
       "    <tr>\n",
       "      <th>0</th>\n",
       "      <td>0</td>\n",
       "      <td>0.000000</td>\n",
       "    </tr>\n",
       "    <tr>\n",
       "      <th>1</th>\n",
       "      <td>5</td>\n",
       "      <td>0.000000</td>\n",
       "    </tr>\n",
       "    <tr>\n",
       "      <th>2</th>\n",
       "      <td>50</td>\n",
       "      <td>0.000000</td>\n",
       "    </tr>\n",
       "    <tr>\n",
       "      <th>3</th>\n",
       "      <td>500</td>\n",
       "      <td>0.000000</td>\n",
       "    </tr>\n",
       "    <tr>\n",
       "      <th>4</th>\n",
       "      <td>5000</td>\n",
       "      <td>0.001000</td>\n",
       "    </tr>\n",
       "    <tr>\n",
       "      <th>5</th>\n",
       "      <td>50000</td>\n",
       "      <td>0.003000</td>\n",
       "    </tr>\n",
       "    <tr>\n",
       "      <th>6</th>\n",
       "      <td>500000</td>\n",
       "      <td>0.031348</td>\n",
       "    </tr>\n",
       "    <tr>\n",
       "      <th>7</th>\n",
       "      <td>5000000</td>\n",
       "      <td>0.329415</td>\n",
       "    </tr>\n",
       "    <tr>\n",
       "      <th>8</th>\n",
       "      <td>50000000</td>\n",
       "      <td>3.213452</td>\n",
       "    </tr>\n",
       "  </tbody>\n",
       "</table>\n",
       "</div>"
      ],
      "text/plain": [
       "        num      time\n",
       "0         0  0.000000\n",
       "1         5  0.000000\n",
       "2        50  0.000000\n",
       "3       500  0.000000\n",
       "4      5000  0.001000\n",
       "5     50000  0.003000\n",
       "6    500000  0.031348\n",
       "7   5000000  0.329415\n",
       "8  50000000  3.213452"
      ]
     },
     "execution_count": 11,
     "metadata": {},
     "output_type": "execute_result"
    }
   ],
   "source": [
    "Tlist=[0]\n",
    "\n",
    "start_time = time.time()\n",
    "linear_search(I1, 5)\n",
    "t=(time.time() - start_time)\n",
    "Tlist.append(t)\n",
    "\n",
    "start_time = time.time()\n",
    "linear_search(I2, 50)\n",
    "t=(time.time() - start_time)\n",
    "Tlist.append(t)\n",
    "\n",
    "start_time = time.time()\n",
    "linear_search(I3, 500)\n",
    "t=(time.time() - start_time)\n",
    "Tlist.append(t)\n",
    "\n",
    "start_time = time.time()\n",
    "linear_search(I4, 5000)\n",
    "t=(time.time() - start_time)\n",
    "Tlist.append(t)\n",
    "\n",
    "start_time = time.time()\n",
    "linear_search(I5, 50000)\n",
    "t=(time.time() - start_time)\n",
    "Tlist.append(t)\n",
    "\n",
    "start_time = time.time()\n",
    "linear_search(I6, 500000)\n",
    "t=(time.time() - start_time)\n",
    "Tlist.append(t)\n",
    "\n",
    "start_time = time.time()\n",
    "linear_search(I7, 5000000)\n",
    "t=(time.time() - start_time)\n",
    "Tlist.append(t)\n",
    "\n",
    "start_time = time.time()\n",
    "linear_search(I8, 50000000)\n",
    "t=(time.time() - start_time)\n",
    "Tlist.append(t)\n",
    "\n",
    "\n",
    "info={\n",
    "    'num': Nlist,\n",
    "    'time': Tlist\n",
    "}\n",
    "\n",
    "\n",
    "dt=pd.DataFrame(data=info)\n",
    "dt"
   ]
  },
  {
   "cell_type": "markdown",
   "metadata": {},
   "source": [
    "## Написати функцію, яка б могла повертати датафрейм з наступним складом полів: (\"n\", \"time\"), де `n` -- розмір масиву для функції `bin_searh()"
   ]
  },
  {
   "cell_type": "code",
   "execution_count": 12,
   "metadata": {},
   "outputs": [],
   "source": [
    "import pandas as pd\n",
    "import numpy as np\n",
    "from datetime import datetime\n",
    "import random\n",
    "from array import array\n",
    "import time\n",
    "\n",
    "\n",
    "def bin_search(a_list, x, left, right):\n",
    "    if left > right or len(a_list) == 0:\n",
    "        return -1\n",
    "    middle = (left + right) // 2\n",
    "    if a_list[middle] == x:\n",
    "        return middle\n",
    "    elif (a_list[middle] < x):\n",
    "        return bin_search(a_list, x, middle + 1, right)\n",
    "    else:       # a_list[middle] > x\n",
    "        return bin_search(a_list, x, left, middle - 1)\n",
    "\n",
    "\n",
    "\n",
    "i=0\n",
    "B1 = []\n",
    "for i in range(5):\n",
    "    B1.append(++i)\n",
    "    \n",
    "i=0    \n",
    "B2 = []\n",
    "for i in range(50):\n",
    "    B2.append(++i)\n",
    "\n",
    "i=0    \n",
    "B3 = []\n",
    "for i in range(500):\n",
    "    B3.append(++i)\n",
    "\n",
    "i=0\n",
    "B4 = []\n",
    "for i in range(5000):\n",
    "    B4.append(++i)\n",
    "    \n",
    "i=0\n",
    "B5 = []\n",
    "for i in range(50000):\n",
    "    B5.append(++i)\n",
    "\n",
    "i=0\n",
    "B6 = []\n",
    "for i in range(500000):\n",
    "    B6.append(++i)\n",
    "\n",
    "\n",
    "\n",
    "\n",
    "i=0\n",
    "\n",
    "B7 = []\n",
    "for i in range(5000000):\n",
    "    B7.append(++i)\n",
    "\n",
    "i=0\n",
    "B8 = []\n",
    "for i in range(50000000):\n",
    "    B8.append(++i)\n"
   ]
  },
  {
   "cell_type": "code",
   "execution_count": 13,
   "metadata": {},
   "outputs": [
    {
     "data": {
      "text/html": [
       "<div>\n",
       "<style scoped>\n",
       "    .dataframe tbody tr th:only-of-type {\n",
       "        vertical-align: middle;\n",
       "    }\n",
       "\n",
       "    .dataframe tbody tr th {\n",
       "        vertical-align: top;\n",
       "    }\n",
       "\n",
       "    .dataframe thead th {\n",
       "        text-align: right;\n",
       "    }\n",
       "</style>\n",
       "<table border=\"1\" class=\"dataframe\">\n",
       "  <thead>\n",
       "    <tr style=\"text-align: right;\">\n",
       "      <th></th>\n",
       "      <th>num</th>\n",
       "      <th>time</th>\n",
       "    </tr>\n",
       "  </thead>\n",
       "  <tbody>\n",
       "    <tr>\n",
       "      <th>0</th>\n",
       "      <td>0</td>\n",
       "      <td>0.0</td>\n",
       "    </tr>\n",
       "    <tr>\n",
       "      <th>1</th>\n",
       "      <td>5</td>\n",
       "      <td>0.0</td>\n",
       "    </tr>\n",
       "    <tr>\n",
       "      <th>2</th>\n",
       "      <td>50</td>\n",
       "      <td>0.0</td>\n",
       "    </tr>\n",
       "    <tr>\n",
       "      <th>3</th>\n",
       "      <td>500</td>\n",
       "      <td>0.0</td>\n",
       "    </tr>\n",
       "    <tr>\n",
       "      <th>4</th>\n",
       "      <td>5000</td>\n",
       "      <td>0.0</td>\n",
       "    </tr>\n",
       "    <tr>\n",
       "      <th>5</th>\n",
       "      <td>50000</td>\n",
       "      <td>0.0</td>\n",
       "    </tr>\n",
       "    <tr>\n",
       "      <th>6</th>\n",
       "      <td>500000</td>\n",
       "      <td>0.0</td>\n",
       "    </tr>\n",
       "    <tr>\n",
       "      <th>7</th>\n",
       "      <td>5000000</td>\n",
       "      <td>0.0</td>\n",
       "    </tr>\n",
       "    <tr>\n",
       "      <th>8</th>\n",
       "      <td>50000000</td>\n",
       "      <td>0.0</td>\n",
       "    </tr>\n",
       "  </tbody>\n",
       "</table>\n",
       "</div>"
      ],
      "text/plain": [
       "        num  time\n",
       "0         0   0.0\n",
       "1         5   0.0\n",
       "2        50   0.0\n",
       "3       500   0.0\n",
       "4      5000   0.0\n",
       "5     50000   0.0\n",
       "6    500000   0.0\n",
       "7   5000000   0.0\n",
       "8  50000000   0.0"
      ]
     },
     "execution_count": 13,
     "metadata": {},
     "output_type": "execute_result"
    }
   ],
   "source": [
    "T2list=[0]\n",
    "\n",
    "start_time = time.time()\n",
    "bin_search(B1, 5, 0, len(I1) - 1)\n",
    "t=(time.time() - start_time)\n",
    "T2list.append(t)\n",
    "\n",
    "\n",
    "start_time = time.time()\n",
    "bin_search(B1, 50, 0, len(I1) - 1)\n",
    "t=(time.time() - start_time)\n",
    "T2list.append(t)\n",
    "\n",
    "\n",
    "start_time = time.time()\n",
    "bin_search(B3, 500, 0, len(I1) - 1)\n",
    "t=(time.time() - start_time)\n",
    "T2list.append(t)\n",
    "\n",
    "\n",
    "start_time = time.time()\n",
    "bin_search(B4, 5000, 0, len(I1) - 1)\n",
    "t=(time.time() - start_time)\n",
    "T2list.append(t)\n",
    "\n",
    "\n",
    "start_time = time.time()\n",
    "bin_search(B5, 50000, 0, len(I1) - 1)\n",
    "t=(time.time() - start_time)\n",
    "T2list.append(t)\n",
    "\n",
    "\n",
    "start_time = time.time()\n",
    "bin_search(B6, 500000, 0, len(I1) - 1)\n",
    "t=(time.time() - start_time)\n",
    "T2list.append(t)\n",
    "\n",
    "\n",
    "start_time = time.time()\n",
    "bin_search(B7, 5000000, 0, len(I1) - 1)\n",
    "t=(time.time() - start_time)\n",
    "T2list.append(t)\n",
    "\n",
    "\n",
    "start_time = time.time()\n",
    "bin_search(B8, 50000000, 0, len(I1) - 1)\n",
    "t=(time.time() - start_time)\n",
    "T2list.append(t)\n",
    "\n",
    "\n",
    "info2={\n",
    "    'num': Nlist,\n",
    "    'time': T2list\n",
    "}\n",
    "\n",
    "\n",
    "dt2=pd.DataFrame(data=info2)\n",
    "dt2"
   ]
  },
  {
   "cell_type": "markdown",
   "metadata": {},
   "source": [
    "## Графік та оцінка"
   ]
  },
  {
   "cell_type": "code",
   "execution_count": 14,
   "metadata": {},
   "outputs": [
    {
     "data": {
      "text/plain": [
       "[<matplotlib.lines.Line2D at 0x187fd10aa20>,\n",
       " <matplotlib.lines.Line2D at 0x187fd10aa50>]"
      ]
     },
     "execution_count": 14,
     "metadata": {},
     "output_type": "execute_result"
    },
    {
     "data": {
      "image/png": "[encoded data removed]",
      "text/plain": [
       "<Figure size 640x480 with 1 Axes>"
      ]
     },
     "metadata": {},
     "output_type": "display_data"
    }
   ],
   "source": [
    "import matplotlib.pyplot as plt\n",
    "%matplotlib inline\n",
    "\n",
    "plt.plot(Nlist, Tlist, Nlist, T2list)\n",
    "\n"
   ]
  },
  {
   "cell_type": "markdown",
   "metadata": {},
   "source": [
    "Алгорит бінарного пошуку є більш ефективним і його складність зростає набагато повільніше (через велику швидкість пошуку навіть в великий списках, на діаграмі це виглядає як пряма, хоча насправді це графік log(n))."
   ]
  },
  {
   "cell_type": "markdown",
   "metadata": {},
   "source": [
    "## Контрольні запитання"
   ]
  },
  {
   "cell_type": "markdown",
   "metadata": {},
   "source": [
    "1. Дати визначення складності задачі з символом $\\Omega$.\n",
    "   \n",
    "   Це задача, що відображає нижню асимптотичну межу.\n",
    "\n",
    "1. Функція часової складності має вигляд: $F(N)=N^3+7N^2-14N$. Як записати аисмптотичну складність в нотації $O()$?\n",
    "   \n",
    "   O(n^3).\n",
    "\n",
    "1. Функція часової складності має вигляд: $F(N)=1.01^N+N^{10}$. Як записати аисмптотичну складність в нотації $O()$?\n",
    "   \n",
    "   O(1.01^N)\n",
    "\n",
    "1. Функція часової складності має вигляд: $F(N)=N^{1.3}+10log_2N$. Як записати аисмптотичну складність в нотації $O()$?\n",
    "   \n",
    "   O(N^1.3)\n",
    "\n",
    "1. У чому полягає ідея розпаралелювання обчислень і для чого вона використовується? Які з алгоритмів, наведених у цій лабораторній роботі, дозволяють розпаралелювання?\n",
    "   \n",
    "   Вона використовується в рекурсивних алгоритмах для поділу задачі для простішого розв'язання. Це дозволяються усі алгоритми які використовують рекурсію (факторіал з рекурсією, числа Фібоначчі, сортування злиттям).\n",
    "\n",
    "1. Які існують шляхи підвищення обчислювальної швидкості алгоритмів? Який з них є найбільш ефективним?\n",
    "   \n",
    "   Оптимізація алгоритму та використання більш ефективного алгоритму. Перший шлях вплине на константу і він є менш ефективним, другий шлях можи давати набагато більш ефективні результати.\n",
    "   "
   ]
  }
 ],
 "metadata": {
  "kernelspec": {
   "display_name": "Python 3 (ipykernel)",
   "language": "python",
   "name": "python3"
  },
  "language_info": {
   "codemirror_mode": {
    "name": "ipython",
    "version": 3
   },
   "file_extension": ".py",
   "mimetype": "text/x-python",
   "name": "python",
   "nbconvert_exporter": "python",
   "pygments_lexer": "ipython3",
   "version": "3.12.2"
  }
 },
 "nbformat": 4,
 "nbformat_minor": 4
}
