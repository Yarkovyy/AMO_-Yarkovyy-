{
 "cells": [
  {
   "cell_type": "markdown",
   "metadata": {},
   "source": [
    "---\n",
    "title: 'Лабораторна робота №6. Структури даних дерево і купа'\n",
    "description:\n",
    "   Документ зроблено за допомогою [Quarto](https://quarto.org/)\n",
    "author: \"Яркоий Тимофій\"\n",
    "date: \"04.15.2024\"\n",
    "lang: ukr\n",
    "format:\n",
    "  html:\n",
    "    code-fold: true\n",
    "    toc: true # меню\n",
    "    toc_float: # спливаюче меню  \n",
    "      collapsed: true # авто\n",
    "      number_sections: true\n",
    "jupyter: python3\n",
    "---"
   ]
  },
  {
   "cell_type": "markdown",
   "metadata": {},
   "source": [
    "## Дерева"
   ]
  },
  {
   "cell_type": "code",
   "execution_count": 1,
   "metadata": {},
   "outputs": [],
   "source": [
    "myTree = ['a',   #root\n",
    "      ['b',  #left subtree\n",
    "       ['d', [], []],\n",
    "       ['e', [], []] ],\n",
    "      ['c',  #right subtree\n",
    "       ['f', [], []],\n",
    "       [] ]\n",
    "     ]"
   ]
  },
  {
   "cell_type": "code",
   "execution_count": 2,
   "metadata": {},
   "outputs": [
    {
     "name": "stdout",
     "output_type": "stream",
     "text": [
      "['a', ['b', ['d', [], []], ['e', [], []]], ['c', ['f', [], []], []]]\n",
      "left subtree =  ['b', ['d', [], []], ['e', [], []]]\n",
      "root =  a\n",
      "right subtree =  ['c', ['f', [], []], []]\n",
      "e\n"
     ]
    }
   ],
   "source": [
    "myTree = ['a', ['b', ['d',[],[]], ['e',[],[]] ], ['c', ['f',[],[]], []] ]\n",
    "print(myTree)\n",
    "print('left subtree = ', myTree[1])\n",
    "print('root = ', myTree[0])\n",
    "print('right subtree = ', myTree[2])\n",
    "print(myTree[1][2][0])"
   ]
  },
  {
   "cell_type": "markdown",
   "metadata": {},
   "source": [
    "### [Реалізація дерев за допомогою списків на Python](https://github.com/yorko/python_intro)"
   ]
  },
  {
   "cell_type": "code",
   "execution_count": 3,
   "metadata": {},
   "outputs": [],
   "source": [
    "# Задання вузла бінарного дерева\n",
    "def BinaryTree(r):\n",
    "    return [r, [], []]\n",
    "\n",
    "# Додавання елемента у ліве піддерево\n",
    "def insertLeft(root, newBranch):\n",
    "    t = root.pop(1)\n",
    "    if len(t) > 1:\n",
    "        root.insert(1,[newBranch,t,[]])\n",
    "    else:\n",
    "        root.insert(1,[newBranch, [], []])\n",
    "    return root\n",
    "\n",
    "# Додавання елемента у праве піддерево\n",
    "def insertRight(root, newBranch):\n",
    "    t = root.pop(2)\n",
    "    if len(t) > 1:\n",
    "        root.insert(2,[newBranch,[],t])\n",
    "    else:\n",
    "        root.insert(2,[newBranch,[],[]])\n",
    "    return root\n",
    "\n",
    "# Повернути значення кореневого елемента\n",
    "def getRootVal(root):\n",
    "    return root[0]\n",
    "\n",
    "# Присвоєння нового значення кореневому елементу\n",
    "def setRootVal(root,newVal):\n",
    "    root[0] = newVal\n",
    "\n",
    "# Повернути ліве піддерево  \n",
    "def getLeftChild(root):\n",
    "    return root[1]\n",
    "\n",
    "# Повернути праве піддерево\n",
    "def getRightChild(root):\n",
    "    return root[2]"
   ]
  },
  {
   "cell_type": "markdown",
   "metadata": {},
   "source": [
    "Нижче показано приклад роботи з вищеописаними функціями."
   ]
  },
  {
   "cell_type": "code",
   "execution_count": 4,
   "metadata": {},
   "outputs": [
    {
     "name": "stdout",
     "output_type": "stream",
     "text": [
      "[5, [4, [], []], []]\n",
      "[3, [9, [4, [], []], []], [7, [], [6, [], []]]]\n",
      "[3, [9, [11, [4, [], []], []], []], [7, [], [6, [], []]]]\n",
      "[6, [], []]\n"
     ]
    }
   ],
   "source": [
    "\n",
    "# Приклад\n",
    "r = BinaryTree(3)\n",
    "insertLeft(r,4)\n",
    "insertLeft(r,5)\n",
    "insertRight(r,6)\n",
    "insertRight(r,7)\n",
    "l = getLeftChild(r)\n",
    "print(l)\n",
    "\n",
    "setRootVal(l,9)\n",
    "print(r)\n",
    "insertLeft(l,11)\n",
    "print(r)\n",
    "print(getRightChild(getRightChild(r)))\n"
   ]
  },
  {
   "cell_type": "markdown",
   "metadata": {},
   "source": [
    "__Завдання на самостійну роботу:__\n",
    "\n",
    "* Створити бінарне дерево згідно з варіантом, виданим викладачем.\n",
    "* Написати процедуру видалення заданої гілки дерева.\n",
    "* Оцінити асисптотичну складність (в середньому і в найгіршому випадку) процедур `search`, `insert` і `delete` роботи з деревом."
   ]
  },
  {
   "cell_type": "markdown",
   "metadata": {},
   "source": [
    "### Бінарне дерево"
   ]
  },
  {
   "cell_type": "code",
   "execution_count": 5,
   "metadata": {},
   "outputs": [
    {
     "name": "stdout",
     "output_type": "stream",
     "text": [
      "['a', ['b', [], ['e', [], []]], ['c', ['f', [], ['d', [], []]], []]]\n"
     ]
    }
   ],
   "source": [
    "myTree = ['a',   #root\n",
    "          \n",
    "      ['b',  #left subtree\n",
    "       [],\n",
    "       ['e', [], []] ],\n",
    "          \n",
    "      ['c',  #right subtree\n",
    "       ['f', [], \n",
    "        ['d',[],[]]],\n",
    "       [] ]\n",
    "          \n",
    "     ]\n",
    "\n",
    "print(myTree)"
   ]
  },
  {
   "cell_type": "markdown",
   "metadata": {},
   "source": [
    "### Видалення гілки"
   ]
  },
  {
   "cell_type": "code",
   "execution_count": 6,
   "metadata": {},
   "outputs": [
    {
     "name": "stdout",
     "output_type": "stream",
     "text": [
      "['a', ['b', [], ['e', [], []]], ['c', ['f', [], ['d', [], []]], []]]\n",
      "['a', [], ['c', ['f', [], ['d', [], []]], []]]\n",
      "['a', [], []]\n"
     ]
    }
   ],
   "source": [
    "def delet(tree, branch):\n",
    "    \n",
    "    if branch == 'l':\n",
    "        tree[1]=[]\n",
    "    else:\n",
    "        tree[2]=[]\n",
    "\n",
    "print(myTree)\n",
    "delet(myTree, 'l')\n",
    "print(myTree)\n",
    "delet(myTree, 'r')\n",
    "print(myTree)"
   ]
  },
  {
   "cell_type": "markdown",
   "metadata": {},
   "source": [
    "### Асимптотична складність:"
   ]
  },
  {
   "cell_type": "markdown",
   "metadata": {},
   "source": [
    "Search:\n",
    "В середньому\t\n",
    "Θ(n)\n",
    "Найгірший випадок\n",
    "O(n)\n",
    "\n",
    "Insert\n",
    "В середньому\n",
    "Θ(logn)\n",
    "Найгірший випадок\n",
    "O(n)\n",
    "\n",
    "Delete\n",
    "В середньому\n",
    "Θ(logn)\n",
    "Найгірший випадок\n",
    "O(n)"
   ]
  },
  {
   "cell_type": "markdown",
   "metadata": {},
   "source": [
    "\n",
    "## Купа"
   ]
  },
  {
   "cell_type": "code",
   "execution_count": 60,
   "metadata": {},
   "outputs": [],
   "source": [
    "global heap\n",
    "global currSize\n",
    "\n",
    "def parent(i): #Отримати індекс батьківського вузла для i-го елемента\n",
    "    return i // 2\n",
    "\n",
    "def left(i): #Отримати лівий дочірній елемент от i-го\n",
    "    return 2*i\n",
    "\n",
    "def right(i): #Отримати правий дочірній елемент от i-го\n",
    "    return (2*i + 1)"
   ]
  },
  {
   "cell_type": "code",
   "execution_count": 97,
   "metadata": {},
   "outputs": [],
   "source": [
    "def swap(a, b): # міняемо елемент з індексом a на елемент з індексом b\n",
    "    temp = heap[a]\n",
    "    heap[a] = heap[b]\n",
    "    heap[b] = temp\n",
    "\n",
    "def insert(elem):\n",
    "    global currSize\n",
    "    \n",
    "    index = len(heap)\n",
    "    heap.append(elem)\n",
    "    currSize += 1\n",
    "\n",
    "    par = parent(index)\n",
    "    flag = 0\n",
    "    while flag != 1:\n",
    "        if index == 1: #Дійшли до кореневого елемента\n",
    "            flag = 1\n",
    "        elif heap[par] > elem: #Якщо індекс кореневого елемента більше індекса\n",
    "#             нашего елемента - наш елемент на своєму місці\n",
    "            flag = 1\n",
    "        else: #Міняємо місцями батьківський елемент з нашим\n",
    "            swap(par, index)\n",
    "            index = par\n",
    "            par = parent(index)\n",
    "            \n",
    "    print(heap)"
   ]
  },
  {
   "cell_type": "code",
   "execution_count": 98,
   "metadata": {},
   "outputs": [],
   "source": [
    "def extractMax():\n",
    "    global currSize\n",
    "    if currSize != 0:\n",
    "        maxElem = heap[1]\n",
    "        heap[1] = heap[currSize] # Замінюємо кореневий елемент -- останнім\n",
    "        heap.pop(currSize) # Видаляємо останній елемент\n",
    "        currSize -= 1 # Зменшуємо розмір купи\n",
    "        maxHeapify(1)\n",
    "        return maxElem\n",
    "\n",
    "def maxHeapify(index):\n",
    "    global currSize\n",
    "    \n",
    "    lar = index\n",
    "    l = left(index)\n",
    "    r = right(index)\n",
    "\n",
    "    # Обчислюємо, який із дочірніх елементів більший; якщо він більший за батьківський - міняємо місцями\n",
    "    if l <= currSize and heap[l] > heap[lar]:\n",
    "        lar = l\n",
    "    if r <= currSize and heap[r] > heap[lar]:\n",
    "        lar = r\n",
    "    if lar != index:\n",
    "        swap(index, lar)\n",
    "        maxHeapify(lar)"
   ]
  },
  {
   "cell_type": "markdown",
   "metadata": {},
   "source": [
    "__Завдання на самостійну роботу__:\n",
    "\n",
    "* Написати процедуру генерації купи з будь-якого рандомного масива\n",
    "* Додати до нього елемент, який дорівнює вашому порядковому номеру у списку групи\n",
    "* Вилучити максимальний елемент з купи\n",
    "* Оцінити асимптотичну складність (в середньому і в найгіршому випадку) процедур `search`, `insert` і `delete` роботи з з купою."
   ]
  },
  {
   "cell_type": "markdown",
   "metadata": {},
   "source": [
    "### Генерація купи, додавання елементу та вилучення максимального елементу"
   ]
  },
  {
   "cell_type": "code",
   "execution_count": 107,
   "metadata": {},
   "outputs": [
    {
     "name": "stdout",
     "output_type": "stream",
     "text": [
      "[0, 0]\n",
      "[0, 1, 0]\n",
      "[0, 2, 0, 1]\n",
      "[0, 3, 2, 1, 0]\n",
      "[0, 4, 3, 1, 0, 2]\n",
      "[0, 5, 3, 4, 0, 2, 1]\n",
      "[0, 6, 3, 5, 0, 2, 1, 4]\n",
      "[0, 7, 6, 5, 3, 2, 1, 4, 0]\n",
      "[0, 8, 7, 5, 6, 2, 1, 4, 0, 3]\n",
      "[0, 9, 8, 5, 6, 7, 1, 4, 0, 3, 2]\n",
      "[0, 10, 9, 5, 6, 8, 1, 4, 0, 3, 2, 7]\n",
      "[0, 11, 9, 10, 6, 8, 5, 4, 0, 3, 2, 7, 1]\n",
      "[0, 12, 9, 11, 6, 8, 10, 4, 0, 3, 2, 7, 1, 5]\n",
      "[0, 13, 9, 12, 6, 8, 10, 11, 0, 3, 2, 7, 1, 5, 4]\n",
      "[0, 27, 9, 13, 6, 8, 10, 12, 0, 3, 2, 7, 1, 5, 4, 11]\n"
     ]
    },
    {
     "data": {
      "text/plain": [
       "27"
      ]
     },
     "execution_count": 107,
     "metadata": {},
     "output_type": "execute_result"
    }
   ],
   "source": [
    "import random\n",
    "\n",
    "heap=[0]\n",
    "currSize=0\n",
    "\n",
    "for i in range(random.randint(6,20)):\n",
    "    insert(i)\n",
    "\n",
    "insert(27)\n",
    "extractMax()"
   ]
  },
  {
   "cell_type": "markdown",
   "metadata": {},
   "source": [
    "### Асимптотична складність"
   ]
  },
  {
   "cell_type": "markdown",
   "metadata": {},
   "source": [
    "***\n",
    "Операція| В середньому | Найгірший випадок\n",
    " --------|-------|-----------\n",
    " Search min| $\\Theta (1)$| $O(1)$\n",
    " Search max| $\\Theta (logn)$| $O(logn)$\n",
    " Insert| $\\Theta (logn)$| $O(logn)$\n",
    " Delete| $\\Theta (logn)$| $O(logn)$"
   ]
  },
  {
   "cell_type": "markdown",
   "metadata": {},
   "source": [
    "## Геш-таблиця з ланцюжковим кодуванням"
   ]
  },
  {
   "cell_type": "code",
   "execution_count": 30,
   "metadata": {},
   "outputs": [],
   "source": [
    "class HashTable:\n",
    "    def __init__(self, size):\n",
    "        self.size = size\n",
    "        self.table = [[] for _ in range(size)]\n",
    "\n",
    "    def _hash(self, key):\n",
    "        return hash(key) % self.size\n",
    "\n",
    "    def insert(self, key, value):\n",
    "        index = self._hash(key)\n",
    "        for pair in self.table[index]:\n",
    "            if pair[0] == key:\n",
    "                pair[1] = value\n",
    "                return\n",
    "        self.table[index].append([key, value])\n",
    "\n",
    "    def search(self, key):\n",
    "        index = self._hash(key)\n",
    "        for pair in self.table[index]:\n",
    "            if pair[0] == key:\n",
    "                return pair[1]\n",
    "        raise KeyError(f\"Key '{key}' not found\")\n",
    "\n",
    "    def delete(self, key):\n",
    "        index = self._hash(key)\n",
    "        for i, pair in enumerate(self.table[index]):\n",
    "            if pair[0] == key:\n",
    "                del self.table[index][i]\n",
    "                return\n",
    "        raise KeyError(f\"Key '{key}' not found\")\n",
    "\n",
    "\n"
   ]
  },
  {
   "cell_type": "code",
   "execution_count": 31,
   "metadata": {},
   "outputs": [
    {
     "name": "stdout",
     "output_type": "stream",
     "text": [
      "Цілі числа\n",
      "Insert: 0.0\n",
      "5\n",
      "Search: 0.0\n",
      "Delete: 0.0\n",
      "Рядки\n",
      "Insert: 0.0\n",
      "apple\n",
      "Search: 0.0\n",
      "Delete: 0.0\n",
      "Список\n",
      "Insert: 0.0\n",
      "[10, 15]\n",
      "Search: 0.0\n",
      "Delete: 0.0\n",
      "Словник\n",
      "Insert: 0.0\n",
      "{1: 'One', 2: 'Two', 3: 'Three'}\n",
      "Search: 0.0\n",
      "Delete: 0.0\n"
     ]
    }
   ],
   "source": [
    "import time\n",
    "\n",
    "numbers = {1: \"One\", 2: \"Two\", 3: \"Three\"} # словник\n",
    "\n",
    "ht = HashTable(10)\n",
    "print(\"Цілі числа\")\n",
    "\n",
    "start_time = time.time()\n",
    "ht.insert(1, 5)\n",
    "print(\"Insert:\", (time.time() - start_time))\n",
    "\n",
    "start_time = time.time()\n",
    "print(ht.search(1))\n",
    "print(\"Search:\", (time.time() - start_time))\n",
    "\n",
    "start_time = time.time()\n",
    "ht.delete(1)\n",
    "print(\"Delete:\", (time.time() - start_time))\n",
    "\n",
    "\n",
    "\n",
    "\n",
    "\n",
    "print(\"Рядки\")\n",
    "\n",
    "start_time = time.time()\n",
    "ht.insert(2, \"apple\")\n",
    "print(\"Insert:\", (time.time() - start_time))\n",
    "\n",
    "\n",
    "start_time = time.time()\n",
    "print(ht.search(2))\n",
    "print(\"Search:\", (time.time() - start_time))\n",
    "\n",
    "start_time = time.time()\n",
    "ht.delete(2)\n",
    "print(\"Delete:\", (time.time() - start_time))\n",
    "\n",
    "\n",
    "\n",
    "\n",
    "\n",
    "print(\"Список\")\n",
    "\n",
    "start_time = time.time()\n",
    "ht.insert(3, [10,15])\n",
    "print(\"Insert:\", (time.time() - start_time))\n",
    "\n",
    "start_time = time.time()\n",
    "print(ht.search(3))\n",
    "print(\"Search:\", (time.time() - start_time))\n",
    "\n",
    "start_time = time.time()\n",
    "ht.delete(3)\n",
    "print(\"Delete:\", (time.time() - start_time))\n",
    "\n",
    "\n",
    "print(\"Словник\")\n",
    "\n",
    "start_time = time.time()\n",
    "ht.insert(4, numbers)\n",
    "print(\"Insert:\", (time.time() - start_time))\n",
    "\n",
    "start_time = time.time()\n",
    "print(ht.search(4))\n",
    "print(\"Search:\", (time.time() - start_time))\n",
    "\n",
    "start_time = time.time()\n",
    "ht.delete(4)\n",
    "print(\"Delete:\", (time.time() - start_time))\n",
    "\n"
   ]
  },
  {
   "cell_type": "markdown",
   "metadata": {},
   "source": [
    "## Контрольні запитання"
   ]
  },
  {
   "cell_type": "markdown",
   "metadata": {},
   "source": [
    "1. Чим відрізняється структура бінарне дерево він бінарного дерева\n",
    "пошуку?\n",
    "\n",
    "Бінарне дерево - це структура даних, в якій кожен вузол може мати максимум два дочірні вузли. Бінарне дерево пошуку (BST) - це спеціальний випадок бінарного дерева, основна відмінність між ними полягає в наявності впорядкування в бінарному дереві пошуку, що дозволяє ефективно виконувати операції пошуку.\n",
    "\n",
    "2. Чим відрізняється структура бінарне дерево від бінарної купи?\n",
    "   \n",
    "Бінарна купа це підвид бінарного дерева, де усі елементи впорядковані по зростанню або спаданню (найбільший або найменший елемент у корені).\n",
    "   \n",
    "3. Які існують типи дерев? Опишіть їхні основні характеристики та\n",
    "переваги.\n",
    "\n",
    "Бінарне дерево: \n",
    "\n",
    "Кожен вузол може мати максимум два дочірні вузли - лівий та правий. Не має обмежень щодо порядку даних у вузлах. Використовується для різних задач, таких як пошук, обходи дерев, вирази та інші. \n",
    "\n",
    "Бінарне дерево пошуку: \n",
    "\n",
    "Кожен вузол має ключ, і всі ключі у лівому піддереві менші за ключ у поточному вузлі, а ключі у правому піддереві більші або рівні за ключ у поточному вузлі. Ефективний для операцій пошуку, вставки і видалення елементів через властивість впорядкування даних.\n",
    "\n",
    "4. Наведіть приклади задач, які ефективно вирішуються за допомогою\n",
    "дерев.\n",
    "\n",
    "Організація множин та асоціативних масивів, реалізація черги з пріорітетом.\n",
    "\n",
    "5. Як організована купа? Опишіть алгоритми додавання та вилучення\n",
    "елементів з купи.\n",
    "\n",
    "  Алгоритм додавання:\n",
    "\n",
    "Додаємо елемент в самий низ купи.\n",
    "\n",
    "Порівнюємо доданий елемент з батьківським; якщо порядок вірний – зупиняємося.\n",
    "\n",
    "Якщо немає – міняємо елементи місцями, і повертаємося до попереднього пункту.\n",
    "\n",
    "  Алгоритм вилучення:\n",
    "\n",
    "Замінити кореневий елемент самим нижнім.\n",
    "\n",
    "Порівняти новий кореневий елемент з дочірніми. Якщо вони в правильному порядку – зупинитися.\n",
    "\n",
    "Якщо немає – замінити кореневий елемент на одного з дочірніх (менший для min-heap, більший для max-heap), і повторити крок 2.\n",
    "\n",
    "6. Які задачі можна ефективно вирішити за допомогою купи? Наведіть\n",
    "приклади.\n",
    "\n",
    "Купа є максимально ефективною реалізацією абстрактного типу даних, який називається чергою з пріоритетом. Купи мають вирішальне значення в деяких ефективних алгоритмах на графах, таких, як алгоритм Дейкстри на d-купах і сортування методом піраміди.\n",
    "\n",
    "7. Як геш-функція використовується для зберігання та пошуку даних в\n",
    "хеш-таблиці?\n",
    "\n",
    "Геш-функція – це алгоритм, який перетворює довільний вхідний ключ у ціле число, яке можна використовувати як\n",
    "індекс у масиві."
   ]
  }
 ],
 "metadata": {
  "kernelspec": {
   "display_name": "Python 3 (ipykernel)",
   "language": "python",
   "name": "python3"
  },
  "language_info": {
   "codemirror_mode": {
    "name": "ipython",
    "version": 3
   },
   "file_extension": ".py",
   "mimetype": "text/x-python",
   "name": "python",
   "nbconvert_exporter": "python",
   "pygments_lexer": "ipython3",
   "version": "3.12.2"
  }
 },
 "nbformat": 4,
 "nbformat_minor": 4
}
