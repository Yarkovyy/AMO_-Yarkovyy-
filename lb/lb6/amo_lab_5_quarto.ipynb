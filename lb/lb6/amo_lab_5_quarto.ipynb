{
 "cells": [
  {
   "cell_type": "markdown",
   "metadata": {},
   "source": [
    "---\n",
    "title: 'Лабораторна робота №5. Структури даних стек і черга. (short version)'\n",
    "description:\n",
    "   Документ зроблено за допомогою [Quarto](https://quarto.org/)\n",
    "author: \"Яркоий Тимофій\"\n",
    "date: \"04.15.2024\"\n",
    "lang: ukr\n",
    "format:\n",
    "  html:\n",
    "    code-fold: true\n",
    "    toc: true # меню\n",
    "    toc_float: # спливаюче меню  \n",
    "      collapsed: true # авто\n",
    "      number_sections: true\n",
    "jupyter: python3\n",
    "---"
   ]
  },
  {
   "cell_type": "markdown",
   "metadata": {},
   "source": [
    "### [Реалізація стеку на Python](https://codereview.stackexchange.com/questions/82802/stack-implementation-in-python)"
   ]
  },
  {
   "cell_type": "code",
   "execution_count": 2,
   "metadata": {},
   "outputs": [],
   "source": [
    "# У стилі ООП\n",
    "class Stack:\n",
    "     def __init__(self):\n",
    "         self.items = []\n",
    "\n",
    "     def isEmpty(self):\n",
    "         return self.items == []\n",
    "\n",
    "     def push(self, item):\n",
    "         self.items.append(item)\n",
    "\n",
    "     def pop(self):\n",
    "         return self.items.pop()\n",
    "\n",
    "     def peek(self):\n",
    "         return self.items[-1]\n",
    "\n",
    "     def size(self):\n",
    "         return len(self.items)"
   ]
  },
  {
   "cell_type": "code",
   "execution_count": 3,
   "metadata": {},
   "outputs": [
    {
     "name": "stdout",
     "output_type": "stream",
     "text": [
      "None\n",
      "3\n",
      "true\n"
     ]
    }
   ],
   "source": [
    "s = Stack()\n",
    "s.push('hello')\n",
    "s.push('true')\n",
    "print(s.push('true'))\n",
    "# print(s.pop())\n",
    "print(s.size())\n",
    "print(s.peek())"
   ]
  },
  {
   "cell_type": "code",
   "execution_count": 4,
   "metadata": {},
   "outputs": [
    {
     "name": "stdout",
     "output_type": "stream",
     "text": [
      "true\n"
     ]
    }
   ],
   "source": [
    "print(s.pop())"
   ]
  },
  {
   "cell_type": "markdown",
   "metadata": {},
   "source": [
    "\n",
    "## Черга"
   ]
  },
  {
   "cell_type": "code",
   "execution_count": 5,
   "metadata": {},
   "outputs": [],
   "source": [
    "class Queue:\n",
    "    def __init__(self):\n",
    "        self.items = []\n",
    "\n",
    "    def isEmpty(self):\n",
    "        return self.items == []\n",
    "\n",
    "    def enqueue(self, item):\n",
    "        self.items.insert(0,item)\n",
    "\n",
    "    def dequeue(self):\n",
    "        return self.items.pop()\n",
    "\n",
    "    def size(self):\n",
    "        return len(self.items)"
   ]
  },
  {
   "cell_type": "code",
   "execution_count": 6,
   "metadata": {},
   "outputs": [
    {
     "data": {
      "text/plain": [
       "1"
      ]
     },
     "execution_count": 6,
     "metadata": {},
     "output_type": "execute_result"
    }
   ],
   "source": [
    "q = Queue()\n",
    "q.isEmpty()\n",
    "q.enqueue(2)\n",
    "q.isEmpty()\n",
    "q.size()"
   ]
  },
  {
   "cell_type": "code",
   "execution_count": 7,
   "metadata": {},
   "outputs": [
    {
     "name": "stdout",
     "output_type": "stream",
     "text": [
      "[2]\n"
     ]
    }
   ],
   "source": [
    "print(q.items)"
   ]
  },
  {
   "cell_type": "markdown",
   "metadata": {},
   "source": [
    "### Завдання на самостійну роботу: {#sam}\n",
    "\n",
    "* Розглянути самостійно [Приклад 3 офіційної документації модулю Queue.](http://john16blog.blogspot.com/2012/05/python-queue.html)\n",
    "* Написати функцію `print_n()`, що друкує елементи черги з його початку до номеру `n` включно.\n",
    "* Оцінити асисптотичну складність (в середньому і в найгіршому випадку) процедур `search`, `insert` і `delete` роботи з чергою."
   ]
  },
  {
   "cell_type": "markdown",
   "metadata": {},
   "source": [
    "#### Написати функцію `print_n()`, що друкує елементи черги з його початку до номеру `n` включно."
   ]
  },
  {
   "cell_type": "code",
   "execution_count": 8,
   "metadata": {},
   "outputs": [],
   "source": [
    "def print_n(Q, n):\n",
    "    for i in range(n):\n",
    "        print(Q.dequeue())    "
   ]
  },
  {
   "cell_type": "markdown",
   "metadata": {},
   "source": [
    "Приклад використання:"
   ]
  },
  {
   "cell_type": "code",
   "execution_count": 9,
   "metadata": {},
   "outputs": [
    {
     "name": "stdout",
     "output_type": "stream",
     "text": [
      "1\n",
      "2\n"
     ]
    }
   ],
   "source": [
    "q = Queue()\n",
    "\n",
    "q.enqueue(1)\n",
    "q.enqueue(2)\n",
    "q.enqueue(3)\n",
    "\n",
    "print_n(q, 2)"
   ]
  },
  {
   "cell_type": "markdown",
   "metadata": {},
   "source": [
    "#### Оцінити асисптотичну складність (в середньому і в найгіршому випадку) процедур `search`, `insert` і `delete` роботи з чергою."
   ]
  },
  {
   "cell_type": "markdown",
   "metadata": {},
   "source": [
    "Складність:\n",
    "\n",
    "Search\n",
    "\n",
    "Середнє: Θ(n); Найгірший випадок: O(n).\n",
    "\n",
    "Insert\n",
    "\n",
    "Середнє: Θ(1); Найгірший випадок: O(1).\n",
    "\n",
    "Delete\n",
    "\n",
    "Середнє: Θ(1); Найгірший випадок: O(1)."
   ]
  },
  {
   "cell_type": "markdown",
   "metadata": {},
   "source": [
    "## Контрольні запитання {#control}"
   ]
  },
  {
   "cell_type": "markdown",
   "metadata": {},
   "source": [
    "1. Що таке стек і які операції можна виконувати зі стеком?\n",
    "\n",
    "     Стек – це базова структура даних, в якій ми можемо тільки вставляти або видаляти елементи на початку стека. Існує три основні операції, які можуть виконуватися в стеках: вставляння елемента в стек (push), видалення елемента зі стека (pop) і відображення вмісту стека (pip).\n",
    " \n",
    "1. Яка основна відмінність між стеком та чергою?\n",
    "   \n",
    "   У стек вставляння і видалення елементів йде тільки з одного боку і за принципом LIFO (Last In First Out). У черзі з одного боку додаються нові елементи, а з іншого видаляються старі, за принципом FIFO (First In First Out).\n",
    "   \n",
    "1. Як ви можете реалізувати стек за допомогою масиву і за допомогою зв’язаного списку? Які переваги та недоліки кожного підходу?\n",
    "\n",
    "    Перевагами використовуємо масиву для зберігання елементів стеку є простота реалізації та ефективність операцій push і pop, оскільки вони мають часову складність O(1). Однак, розмір масиву має бути попередньо визначений, що може привести до втрати пам'яті у випадку, коли реальний розмір стеку перевищує встановлений розмір.\n",
    "\n",
    "   Коли ми використовуємо зв'язний список розмір не обмежений і може динамічно змінюватись, а також уникнення втрати пам'яті. Проте операції push і pop можуть мати часову складність O(1) або O(n).\n",
    "   \n",
    "1. Які є застосування стека та черги в програмуванні і реальному житі?\n",
    "\n",
    "    Використання стеку: обробка структур даних, наприклад, дерева або графа.\n",
    "\n",
    "    Використання черги: як і в реальному житті, коли потрібно зробити якісь дії в порядку їх надходження, виконавши їх послідовно. Прикладом може служити організація подій в Windows."
   ]
  }
 ],
 "metadata": {
  "kernelspec": {
   "display_name": "Python 3 (ipykernel)",
   "language": "python",
   "name": "python3"
  },
  "language_info": {
   "codemirror_mode": {
    "name": "ipython",
    "version": 3
   },
   "file_extension": ".py",
   "mimetype": "text/x-python",
   "name": "python",
   "nbconvert_exporter": "python",
   "pygments_lexer": "ipython3",
   "version": "3.12.2"
  }
 },
 "nbformat": 4,
 "nbformat_minor": 4
}
