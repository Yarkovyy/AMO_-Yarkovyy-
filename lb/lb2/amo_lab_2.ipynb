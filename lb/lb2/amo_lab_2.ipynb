{
 "cells": [
  {
   "cell_type": "markdown",
   "metadata": {},
   "source": [
    "---\n",
    "title: \"Лабораторна робота №2. Налаштування та робота в середовищі Anaconda+Quarto\"\n",
    "description:\n",
    "   Документ зроблено за допомогою [Quarto](https://quarto.org/)\n",
    "author: \"Ярковий Тимофій\"\n",
    "date: \"03.18.2024\"\n",
    "lang: ukr\n",
    "format:\n",
    "  html:\n",
    "    code-fold: true\n",
    "    toc: true # меню\n",
    "    toc_float: # спливаюче меню  \n",
    "      collapsed: true # авто\n",
    "      number_sections: true\n",
    "jupyter: python3\n",
    "---"
   ]
  },
  {
   "cell_type": "markdown",
   "metadata": {},
   "source": [
    "__Мета:__ _quick start для роботи в середовищі Anaconda із застосуванням Jupyter Notebook або Jupyter Lab засобами мови програмування Python._"
   ]
  },
  {
   "cell_type": "markdown",
   "metadata": {},
   "source": [
    "## Виконання роботи"
   ]
  },
  {
   "attachments": {},
   "cell_type": "markdown",
   "metadata": {},
   "source": [
    "Налаштування за допомогою conda \n",
    "віртуального середовища через інтерфейс командного рядка\n",
    "Скріншоти:\n",
    "![](img/1.png)\n",
    "![](img/2.png)\n",
    "![](img/3.png)\n",
    "![](img/4.png)\n",
    "![](img/5.png)\n",
    "![](img/6.png)\n",
    "![](img/7.png)\n",
    "![](img/8.png)"
   ]
  },
  {
   "cell_type": "markdown",
   "metadata": {},
   "source": [
    "## Контрольні запитання\n",
    "\n",
    "1. Що таке `pip` і `conda` та чим вони відрізняються між собою?\n",
    "\n",
    "1. Як буде виглядати виконання пунктів 1-3 індивідуального завдання за допомогою `Virtualenv`?\n",
    "\n",
    "1. Сфотографувати себе на телефон та імпортувати свое зображення у форматі .png на початок робочого зошита\n",
    "\n",
    "1. Написати процедуру на `Python` сортування масиву методом бульбашки.\n",
    "\n",
    "1. Як виконати компіляцію вхідного документа `Jupyter Notebook` із його середовища, не використовуючи інтерфейс командного рядка?"
   ]
  },
  {
   "cell_type": "markdown",
   "metadata": {},
   "source": [
    "## Відповіді на запитання\n",
    "\n",
    "1. `pip` і `conda` це менеджери пакетів Python. На відміну від `pip`, який є менеджером пакетів, `conda` є програмою вищого рівня, яка, окрім функцій менеджера пакетів, забезпечує функції управління віртуальнім середовищем. \n",
    "\n",
    "1. Це буде схожий процес, ці додатки є аналогами, в Virtualenv схожим чином йде налаштування через командний рядок.\n",
    "\n",
    "1. Фото:\n",
    "   \n",
    "   ![](img/myphoto_amo_lab1.png)\n",
    "\n",
    "1. Код програми нижче.\n",
    "\n",
    "1. Натиснути відповідну кнопку компіляції на панелі інструментів."
   ]
  },
  {
   "cell_type": "markdown",
   "metadata": {},
   "source": [
    "Сортування бульбашкою:"
   ]
  },
  {
   "cell_type": "markdown",
   "metadata": {},
   "source": [
    "Код процедури на `Python`  виглядає наступним чином."
   ]
  },
  {
   "cell_type": "code",
   "execution_count": 1,
   "metadata": {},
   "outputs": [
    {
     "ename": "IndentationError",
     "evalue": "unexpected indent (693672575.py, line 2)",
     "output_type": "error",
     "traceback": [
      "\u001b[1;36m  Cell \u001b[1;32mIn[1], line 2\u001b[1;36m\u001b[0m\n\u001b[1;33m    swapped=True\u001b[0m\n\u001b[1;37m    ^\u001b[0m\n\u001b[1;31mIndentationError\u001b[0m\u001b[1;31m:\u001b[0m unexpected indent\n"
     ]
    }
   ],
   "source": [
    " a=[8,10,6,2,4]\n",
    "   swapped=True\n",
    "   while swapped:\n",
    "       swapped = False\n",
    "       for i in range(len(a)-1):\n",
    "           if a[i] > a[i+1]:\n",
    "               swapped=True\n",
    "               a[i],a[i+1]=a[i+1],a[i]\n",
    "   print(a)"
   ]
  }
 ],
 "metadata": {
  "kernelspec": {
   "display_name": "Python 3 (ipykernel)",
   "language": "python",
   "name": "python3"
  },
  "language_info": {
   "codemirror_mode": {
    "name": "ipython",
    "version": 3
   },
   "file_extension": ".py",
   "mimetype": "text/x-python",
   "name": "python",
   "nbconvert_exporter": "python",
   "pygments_lexer": "ipython3",
   "version": "3.11.7"
  }
 },
 "nbformat": 4,
 "nbformat_minor": 4
}
