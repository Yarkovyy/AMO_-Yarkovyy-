{
 "cells": [
  {
   "cell_type": "markdown",
   "metadata": {},
   "source": [
    "---\n",
    "title: 'Лабораторна робота №10. Жадібна стратегія на прикладі кодування Гафмена'\n",
    "description:\n",
    "   Документ зроблено за допомогою [Quarto](https://quarto.org/)\n",
    "author: \"Яркоий Тимофій\"\n",
    "date: \"05.29.2024\"\n",
    "lang: ukr\n",
    "format:\n",
    "  html:\n",
    "    code-fold: true\n",
    "    toc: true # меню\n",
    "    toc_float: # спливаюче меню  \n",
    "      collapsed: true # авто\n",
    "      number_sections: true\n",
    "jupyter: python3\n",
    "---"
   ]
  },
  {
   "cell_type": "markdown",
   "metadata": {},
   "source": [
    "### Алгоритм побудови дерева Гафмена"
   ]
  },
  {
   "cell_type": "markdown",
   "metadata": {},
   "source": [
    "_Вхід_: масив унікальних символів разом з частотою їх входження.  \n",
    "_Вихід_: дерево Гафмена. \n",
    "\n",
    "1. Для кожного унікального символу створити вершину і побудувати мінімальну купу з усіх вершин (Min Heap використовується як [черга з пріоритетом](https://uk.wikipedia.org/wiki/%D0%A7%D0%B5%D1%80%D0%B3%D0%B0_%D0%B7_%D0%BF%D1%80%D1%96%D0%BE%D1%80%D0%B8%D1%82%D0%B5%D1%82%D0%BE%D0%BC#:~:text=priority%20queue). Значення поля частоти використовується для порівняння двох вершин у мінімальній купі. Спочатку в корені знаходиться символ з найменшою частотою).\n",
    "1. Витягнути дві вершини з мінімальною частотою з min heap.\n",
    "1. Створити новий внутрішній вузол з частотою, що дорівнює сумі частот цих двох вузлів. Зробити першу вилучену вершину її лівим дочірнім елементом, а другу -- правим дочірнім елементом. Додати цю вершину до мінімальної купи.\n",
    "1. Повторювати кроки 2 і 3 до тих пір, поки в купі не залишиться лише одна вершина. Вузол, що залишився, є кореневою вершиною, і дерево завершено."
   ]
  },
  {
   "cell_type": "markdown",
   "metadata": {},
   "source": [
    "На Python алгоритм може бути реалізований, наприклад, за допомогою бібліотеки [heapq](https://www.geeksforgeeks.org/heap-queue-or-heapq-in-python/) (див. також документацію [heapq — Heap queue algorithm](https://docs.python.org/3/library/heapq.html)), яка надає засоби для реалізації купи і, відповідно, черги з пріоритетами. Наведемо код згідно з [Huffman Coding | Greedy Algo-3](https://www.geeksforgeeks.org/huffman-coding-greedy-algo-3/)"
   ]
  },
  {
   "cell_type": "code",
   "execution_count": 7,
   "metadata": {},
   "outputs": [
    {
     "name": "stdout",
     "output_type": "stream",
     "text": [
      "f -> 0\n",
      "c -> 100\n",
      "d -> 101\n",
      "a -> 1100\n",
      "b -> 1101\n",
      "e -> 111\n"
     ]
    }
   ],
   "source": [
    "# A Вузол дерева Гафмана \n",
    "import heapq \n",
    "\n",
    "\n",
    "class node: \n",
    "\tdef __init__(self, freq, symbol, left=None, right=None): \n",
    "\t\t# частота символу \n",
    "\t\tself.freq = freq \n",
    "\n",
    "\t\t# назва символу (символ) \n",
    "\t\tself.symbol = symbol \n",
    "\n",
    "\t\t# вузол ліворуч від поточного вузла \n",
    "\t\tself.left = left \n",
    "\n",
    "\t\t# вузол праворуч від поточного вузла \n",
    "\t\tself.right = right \n",
    "\n",
    "\t\t# напрямок дерева (0/1) \n",
    "\t\tself.huff = '' \n",
    "\n",
    "\tdef __lt__(self, nxt): \n",
    "\t\treturn self.freq < nxt.freq \n",
    "\n",
    "\n",
    "# утиліта для виведення кодів Гафмена для  \n",
    "#  всіх символів у щойно створеному дереві Гафмена \n",
    "def printNodes(node, val=''): \n",
    "\n",
    "\t# Код Гафмена для поточного вузла  \n",
    "\tnewVal = val + str(node.huff) \n",
    "\n",
    "# якщо вершина не є реберною вершиною \n",
    "# то пройти всередині неї \n",
    "\tif(node.left): \n",
    "\t\tprintNodes(node.left, newVal) \n",
    "\tif(node.right): \n",
    "\t\tprintNodes(node.right, newVal) \n",
    "\n",
    "\t\t# якщо node є реберною вершиною тоді \n",
    "        # вивести його хаффманівський код \n",
    "\tif(not node.left and not node.right): \n",
    "\t\tprint(f\"{node.symbol} -> {newVal}\") \n",
    "\n",
    "\n",
    "# символи для дерева Гафмена \n",
    "chars = ['a', 'b', 'c', 'd', 'e', 'f'] \n",
    "\n",
    "# частота символів \n",
    "freq = [5, 9, 12, 13, 16, 45] \n",
    "\n",
    "# список, що містить невикористані вершини \n",
    "nodes = [] \n",
    "\n",
    "# перетворення символів та частот \n",
    "# у вузли дерева Гафмена \n",
    "\n",
    "for x in range(len(chars)): \n",
    "\theapq.heappush(nodes, node(freq[x], chars[x])) \n",
    "\n",
    "while len(nodes) > 1: \n",
    "\n",
    "\t# відсортувати всі вершини за зростанням \n",
    "\t# на основі їх частоти \n",
    "\tleft = heapq.heappop(nodes) \n",
    "\tright = heapq.heappop(nodes) \n",
    "\n",
    "\t# присвоїти значення напрямку цим вузлам \n",
    "\tleft.huff = 0\n",
    "\tright.huff = 1\n",
    "\n",
    "\t# об'єднати 2 найменші вершини, щоб створити \n",
    "\t# новий вузол як їхній батько \n",
    "\tnewNode = node(left.freq+right.freq, left.symbol+right.symbol, left, right) \n",
    "\n",
    "\theapq.heappush(nodes, newNode) \n",
    "\n",
    "# Друк кодів Гафмена\n",
    "printNodes(nodes[0]) \n"
   ]
  },
  {
   "cell_type": "markdown",
   "metadata": {},
   "source": [
    "Часов складність алгоритму: $O(nlogn)$, де $n$ -- кількість унікальних символів. Якщо є $n$ вузлів, `extractMin()` викликається $2(n - 1)$ разів. `extractMin()` займає $O(logn)$ часу, оскільки викликає `minHeapify()`. Отже, загальна складність складає $O(nlogn)$.\n",
    "Якщо вхідний масив відсортовано, існує алгоритм з лінійним часом. \n",
    "\n",
    "Просторова складність :- $O(N)$\n",
    "\n",
    "Застосування кодування Гафмена:\n",
    "\n",
    "* Використовується для передачі факсу і тексту.\n",
    "* Використовується звичайними форматами стиснення, такими як PKZIP, GZIP тощо.\n",
    "* Мультимедійні кодеки, такі як JPEG, PNG і MP3, використовують кодування Гафмена (точніше, префіксні коди).\n",
    " \n",
    " Це корисно у випадках, коли є ряд символів, що часто зустрічаються."
   ]
  },
  {
   "cell_type": "markdown",
   "metadata": {},
   "source": [
    "### Завдання на самостійну роботу\n",
    "\n",
    "* Побудувати дерево кодів Гафмена *згідно з варіантом індивідуального завдання практичної роботи № 9*, виданим викладачем вручну і візуалізувати дерево.\n",
    "* Перевірити результат за допомогою коду, наведеному вище.\n",
    "* Написати процедуру на Python, яка для вхідного повідомлення обчислює список символів  `chars` та список їх частот `freq`. \n",
    "* Опрацювати самостійно тему [декодування Гафмена](https://www.geeksforgeeks.org/huffman-decoding/?ref=gcse) і скориставшись наведеним там кодом, декодувати повідомлення, задане варіантом."
   ]
  },
  {
   "cell_type": "markdown",
   "metadata": {
    "tags": []
   },
   "source": [
    "#### Побудувати дерево кодів Гафмена *згідно з варіантом індивідуального завдання практичної роботи № 9*, виданим викладачем вручну і візуалізувати дерево."
   ]
  },
  {
   "cell_type": "markdown",
   "metadata": {},
   "source": [
    "Текст: \"abggbaaaababg\". Частота a=6, b=4, g=3.\n",
    "\n",
    "                 #(13)\n",
    "               /       \\\n",
    "             a(6)      #(7)\n",
    "                       / \\\n",
    "                    b(4) g(3)  \n",
    "a=0, b=10, g=11 "
   ]
  },
  {
   "cell_type": "markdown",
   "metadata": {
    "tags": []
   },
   "source": [
    "#### Перевірити результат за допомогою коду, наведеному вище."
   ]
  },
  {
   "cell_type": "code",
   "execution_count": 10,
   "metadata": {
    "tags": []
   },
   "outputs": [
    {
     "name": "stdout",
     "output_type": "stream",
     "text": [
      "a -> 0\n",
      "g -> 10\n",
      "b -> 11\n"
     ]
    }
   ],
   "source": [
    "# A Вузол дерева Гафмана \n",
    "import heapq \n",
    "\n",
    "\n",
    "class node: \n",
    "\tdef __init__(self, freq, symbol, left=None, right=None): \n",
    "\t\t# частота символу \n",
    "\t\tself.freq = freq \n",
    "\n",
    "\t\t# назва символу (символ) \n",
    "\t\tself.symbol = symbol \n",
    "\n",
    "\t\t# вузол ліворуч від поточного вузла \n",
    "\t\tself.left = left \n",
    "\n",
    "\t\t# вузол праворуч від поточного вузла \n",
    "\t\tself.right = right \n",
    "\n",
    "\t\t# напрямок дерева (0/1) \n",
    "\t\tself.huff = '' \n",
    "\n",
    "\tdef __lt__(self, nxt): \n",
    "\t\treturn self.freq < nxt.freq \n",
    "\n",
    "\n",
    "# утиліта для виведення кодів Гафмена для  \n",
    "#  всіх символів у щойно створеному дереві Гафмена \n",
    "def printNodes(node, val=''): \n",
    "\n",
    "\t# Код Гафмена для поточного вузла  \n",
    "\tnewVal = val + str(node.huff) \n",
    "\n",
    "# якщо вершина не є реберною вершиною \n",
    "# то пройти всередині неї \n",
    "\tif(node.left): \n",
    "\t\tprintNodes(node.left, newVal) \n",
    "\tif(node.right): \n",
    "\t\tprintNodes(node.right, newVal) \n",
    "\n",
    "\t\t# якщо node є реберною вершиною тоді \n",
    "        # вивести його хаффманівський код \n",
    "\tif(not node.left and not node.right): \n",
    "\t\tprint(f\"{node.symbol} -> {newVal}\") \n",
    "\n",
    "\n",
    "# символи для дерева Гафмена \n",
    "chars = ['a', 'b', 'g'] \n",
    "\n",
    "# частота символів \n",
    "freq = [6, 4, 3] \n",
    "\n",
    "# список, що містить невикористані вершини \n",
    "nodes = [] \n",
    "\n",
    "# перетворення символів та частот \n",
    "# у вузли дерева Гафмена \n",
    "\n",
    "for x in range(len(chars)): \n",
    "\theapq.heappush(nodes, node(freq[x], chars[x])) \n",
    "\n",
    "while len(nodes) > 1: \n",
    "\n",
    "\t# відсортувати всі вершини за зростанням \n",
    "\t# на основі їх частоти \n",
    "\tleft = heapq.heappop(nodes) \n",
    "\tright = heapq.heappop(nodes) \n",
    "\n",
    "\t# присвоїти значення напрямку цим вузлам \n",
    "\tleft.huff = 0\n",
    "\tright.huff = 1\n",
    "\n",
    "\t# об'єднати 2 найменші вершини, щоб створити \n",
    "\t# новий вузол як їхній батько \n",
    "\tnewNode = node(left.freq+right.freq, left.symbol+right.symbol, left, right) \n",
    "\n",
    "\theapq.heappush(nodes, newNode) \n",
    "\n",
    "# Друк кодів Гафмена\n",
    "printNodes(nodes[0]) \n"
   ]
  },
  {
   "cell_type": "markdown",
   "metadata": {},
   "source": [
    "#### Написати процедуру на Python, яка для вхідного повідомлення обчислює список символів  `chars` та список їх частот `freq`."
   ]
  },
  {
   "cell_type": "code",
   "execution_count": 19,
   "metadata": {
    "tags": []
   },
   "outputs": [
    {
     "name": "stdout",
     "output_type": "stream",
     "text": [
      "Символи: ['a', 'b', 'g']\n",
      "Частоти: [6, 4, 3]\n"
     ]
    }
   ],
   "source": [
    "def calculate_char_frequencies(message):\n",
    "    # Створюємо порожні словник для підрахунку частот\n",
    "    frequency_dict = {}\n",
    "\n",
    "    # Проходимо по кожному символу в повідомленні\n",
    "    for char in message:\n",
    "        if char in frequency_dict:\n",
    "            frequency_dict[char] += 1\n",
    "        else:\n",
    "            frequency_dict[char] = 1\n",
    "\n",
    "    # Створюємо списки символів та їх частот\n",
    "    chars = list(frequency_dict.keys())\n",
    "    freq = list(frequency_dict.values())\n",
    "\n",
    "    return chars, freq\n",
    "\n",
    "message = \"abggbaaaababg\"\n",
    "chars, freq = calculate_char_frequencies(message)\n",
    "print(\"Символи:\", chars)\n",
    "print(\"Частоти:\", freq)\n"
   ]
  },
  {
   "cell_type": "markdown",
   "metadata": {},
   "source": [
    "#### Опрацювати самостійно тему [декодування Гафмена](https://www.geeksforgeeks.org/huffman-decoding/?ref=gcse) і скориставшись наведеним там кодом, декодувати повідомлення, задане варіантом"
   ]
  },
  {
   "cell_type": "code",
   "execution_count": 27,
   "metadata": {
    "tags": []
   },
   "outputs": [
    {
     "name": "stdout",
     "output_type": "stream",
     "text": [
      "Character With there Frequencies:\n",
      "a 0\n",
      "b 11\n",
      "g 10\n",
      "\n",
      "Encoded Huffman data:\n",
      "01110101100001101110\n",
      "\n",
      "Decoded Huffman Data:\n",
      "abggbaaaababg\u0000\n"
     ]
    }
   ],
   "source": [
    "import heapq\n",
    "from collections import defaultdict\n",
    "\n",
    "# to map each character its huffman value\n",
    "codes = {}\n",
    "\n",
    "# To store the frequency of character of the input data\n",
    "freq = defaultdict(int)\n",
    "\n",
    "# A Huffman tree node\n",
    "class MinHeapNode:\n",
    "\tdef __init__(self, data, freq):\n",
    "\t\tself.left = None\n",
    "\t\tself.right = None\n",
    "\t\tself.data = data\n",
    "\t\tself.freq = freq\n",
    "\n",
    "\tdef __lt__(self, other):\n",
    "\t\treturn self.freq < other.freq\n",
    "\n",
    "# utility function to print characters along with\n",
    "# there huffman value\n",
    "def printCodes(root, str):\n",
    "\tif root is None:\n",
    "\t\treturn\n",
    "\tif root.data != '$':\n",
    "\t\tprint(root.data, \":\", str)\n",
    "\tprintCodes(root.left, str + \"0\")\n",
    "\tprintCodes(root.right, str + \"1\")\n",
    "\n",
    "# utility function to store characters along with\n",
    "# there huffman value in a hash table\n",
    "def storeCodes(root, str):\n",
    "\tif root is None:\n",
    "\t\treturn\n",
    "\tif root.data != '$':\n",
    "\t\tcodes[root.data] = str\n",
    "\tstoreCodes(root.left, str + \"0\")\n",
    "\tstoreCodes(root.right, str + \"1\")\n",
    "\n",
    "# function to build the Huffman tree and store it\n",
    "# in minHeap\n",
    "def HuffmanCodes(size):\n",
    "\tglobal minHeap\n",
    "\tfor key in freq:\n",
    "\t\tminHeap.append(MinHeapNode(key, freq[key]))\n",
    "\theapq.heapify(minHeap)\n",
    "\twhile len(minHeap) != 1:\n",
    "\t\tleft = heapq.heappop(minHeap)\n",
    "\t\tright = heapq.heappop(minHeap)\n",
    "\t\ttop = MinHeapNode('$', left.freq + right.freq)\n",
    "\t\ttop.left = left\n",
    "\t\ttop.right = right\n",
    "\t\theapq.heappush(minHeap, top)\n",
    "\tstoreCodes(minHeap[0], \"\")\n",
    "\n",
    "# utility function to store map each character with its\n",
    "# frequency in input string\n",
    "def calcFreq(str, n):\n",
    "\tfor i in range(n):\n",
    "\t\tfreq[str[i]] += 1\n",
    "\n",
    "# function iterates through the encoded string s\n",
    "# if s[i]=='1' then move to node->right\n",
    "# if s[i]=='0' then move to node->left\n",
    "# if leaf node append the node->data to our output string\n",
    "def decode_file(root, s):\n",
    "\tans = \"\"\n",
    "\tcurr = root\n",
    "\tn = len(s)\n",
    "\tfor i in range(n):\n",
    "\t\tif s[i] == '0':\n",
    "\t\t\tcurr = curr.left\n",
    "\t\telse:\n",
    "\t\t\tcurr = curr.right\n",
    "\n",
    "\t\t# reached leaf node\n",
    "\t\tif curr.left is None and curr.right is None:\n",
    "\t\t\tans += curr.data\n",
    "\t\t\tcurr = root\n",
    "\treturn ans + '\\0'\n",
    "\n",
    "# Driver code\n",
    "if __name__ == \"__main__\":\n",
    "\tminHeap = []\n",
    "\tstr = \"abggbaaaababg\"\n",
    "\tencodedString, decodedString = \"\", \"\"\n",
    "\tcalcFreq(str, len(str))\n",
    "\tHuffmanCodes(len(str))\n",
    "\tprint(\"Character With there Frequencies:\")\n",
    "\tfor key in sorted(codes):\n",
    "\t\tprint(key, codes[key])\n",
    "\n",
    "\tfor i in str:\n",
    "\t\tencodedString += codes[i]\n",
    "\n",
    "\tprint(\"\\nEncoded Huffman data:\")\n",
    "\tprint(encodedString)\n",
    "\n",
    "\t# Function call\n",
    "\tdecodedString = decode_file(minHeap[0], encodedString)\n",
    "\tprint(\"\\nDecoded Huffman Data:\")\n",
    "\tprint(decodedString)\n"
   ]
  },
  {
   "cell_type": "markdown",
   "metadata": {},
   "source": [
    "## Завдання на лабораторну роботу"
   ]
  },
  {
   "cell_type": "markdown",
   "metadata": {},
   "source": [
    "1. Створити Notebook-документ за допомогою Jupyter Notebook. (Див. [тут](https://devpractice.ru/python-lesson-1-install/), [тут](https://devpractice.ru/python-lesson-6-work-in-jupyter-notebook/) і [тут](https://jupyter-notebook.readthedocs.io/en/stable/notebook.html)) і  реалізувати контрольні приклади, що розглядаються у даній роботі та виконати завдання, що винесено на самостійну роботу.\n",
    "\n",
    "1. Дати відповіді на контрольні запитання.\n",
    "\n",
    "1. Робочий документ оформити у вигляді Notebook-документу (файл __.ipynb__).\n",
    "\n",
    "1. Скомпілювати звіт у форматі __.html__. Для цього необхідно завантажити термінал і у командному рядку запустити наступну команду:\n",
    "\n",
    "`jupyter nbconvert lab_10_StudentLasName.ipynb --to html`\n",
    "\n",
    "1. Представити звіт у вигляді архіву. Проект має складатися мінімум з двох файлів: `lab_10_StudentLasName.ipynb` та `lab_10_StudentLasName.html`"
   ]
  },
  {
   "cell_type": "markdown",
   "metadata": {},
   "source": [
    "## Контрольні запитання"
   ]
  },
  {
   "cell_type": "markdown",
   "metadata": {},
   "source": [
    "1. Що таке жадібні алгоритми?\n",
    "\n",
    "Жадібний алгоритм – це евристичний метод для знаходження наближеного розв’язку екстремальних задач. Він послідовно робить локально\n",
    "оптимальні вибори, сподіваючись, що вони приведуть до глобально оптимального розв’язку. \n",
    "\n",
    "2. Що таке префіксний код? Який код використовується у коді Гафмена?\n",
    "\n",
    "Коди змінної довжини, що присвоюються вхідним символам, є префіксними кодами, тобто коди (послідовності бітів) присвоюються таким чином, що код, присвоєний одному символу, не є префіксом коду, присвоєного будь-якому іншому символу.\n",
    "\n",
    "3. Як пов’язана структура даних «купа» зі структурою даних «черга з пріоритетами»?\n",
    "\n",
    "Черга з пріорітетами - це один із можливих випадків купи. \n",
    "\n",
    "4. Що таке стиснення даних і для чого воно використовується? Які його головні переваги?\n",
    "\n",
    "Процес перекодування даних, яка проводиться з метою зменшення їхнього обсягу. Переваги: зменшення розміру файлів для зберігання та економії місця на диску, легше керування та організація файлів у вигляді одного архіву.\n",
    "\n",
    "5. Які кроки необхідно виконати для стиснення даних за допомогою алгоритму кодування Гафмена?\n",
    "\n",
    " Для кожного унікального символу створити вершину і побудувати\n",
    "мінімальну купу з усіх вершин (min heap використовується як черга з\n",
    "пріоритетом. Значення поля частоти використовується для порівняння двох\n",
    "вершин у мінімальній купі. Спочатку в корені знаходиться символ з\n",
    "найменшою частотою).\n",
    "\n",
    " Витягнути дві вершини з мінімальною частотою з min heap.\n",
    " \n",
    " Створити новий внутрішній вузол з частотою, що дорівнює сумі частот\n",
    "цих двох вузлів. Зробити першу вилучену вершину її лівим дочірнім\n",
    "елементом, а другу – правим дочірнім елементом. Додати цю вершину до\n",
    "мінімальної купи.\n",
    "\n",
    " Повторювати кроки 2 і 3 до тих пір, поки в купі не залишиться лише\n",
    "одна вершина. Вузол, що залишився, є кореневою вершиною, і дерево\n",
    "завершено.\n",
    "\n",
    "\n",
    "6. Які головні обмеження та недоліки алгоритму кодування Гафмена? Чи можливо покращити його продуктивність?\n",
    "\n",
    "Алгоритм Гафмена краще працює при великій різниці в частоті символів. Для покращення можна попередньо відсортувати масив вхідних даних.\n",
    "\n",
    "7. Які існують альтернативні методи стиснення даних, що можуть конкурувати з алгоритмом Гафмена?\n",
    "\n",
    "Арифметичне кодування, алгоритми Лемпела-Зіва, трансформація Барроуза-Вілера, Шеннон-Фано кодування.\n",
    "\n",
    "8. Які практичні застосування можуть мати алгоритми стиснення даних, зокрема алгоритм Гафмена, у сучасних інформаційних ситемах?\n",
    "\n",
    "Застосування кодування Гафмена:\n",
    "\n",
    "− Використовується для передачі факсу і тексту.\n",
    "\n",
    "− Використовується звичайними форматами стиснення, такими як PKZIP,\n",
    "GZIP тощо.\n",
    "\n",
    "− Мультимедійні кодеки, такі як JPEG, PNG і MP3, використовують\n",
    "кодування Гафмена (точніше, префіксні коди).\n",
    "\n",
    "− Це корисно у випадках, коли є ряд символів, що часто зустрічаються.\n"
   ]
  }
 ],
 "metadata": {
  "kernelspec": {
   "display_name": "Python 3 (ipykernel)",
   "language": "python",
   "name": "python3"
  },
  "language_info": {
   "codemirror_mode": {
    "name": "ipython",
    "version": 3
   },
   "file_extension": ".py",
   "mimetype": "text/x-python",
   "name": "python",
   "nbconvert_exporter": "python",
   "pygments_lexer": "ipython3",
   "version": "3.11.7"
  }
 },
 "nbformat": 4,
 "nbformat_minor": 4
}
