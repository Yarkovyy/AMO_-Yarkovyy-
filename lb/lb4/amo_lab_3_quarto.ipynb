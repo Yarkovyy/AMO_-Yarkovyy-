{
 "cells": [
  {
   "cell_type": "markdown",
   "metadata": {},
   "source": [
    "---\n",
    "title: 'Лабораторна робота №4. Рекурсія. Стратегія \"розділяй і володарюй\". (short-версія)'\n",
    "description:\n",
    "   Документ зроблено за допомогою [Quarto](https://quarto.org/)\n",
    "author: \"Яркоий Тимофій\"\n",
    "date: \"01.08.2024\"\n",
    "lang: ukr\n",
    "format:\n",
    "  html:\n",
    "    code-fold: true\n",
    "    toc: true # меню\n",
    "    toc_float: # спливаюче меню  \n",
    "      collapsed: true # авто\n",
    "      number_sections: true\n",
    "jupyter: python3\n",
    "---"
   ]
  },
  {
   "cell_type": "markdown",
   "metadata": {},
   "source": [
    "## Обчислення факторіалу."
   ]
  },
  {
   "cell_type": "markdown",
   "metadata": {},
   "source": [
    "Обчислити факторіал: $$n!=n \\cdot (n-1) \\cdot (n-2) \\cdot ... \\cdot 1$$"
   ]
  },
  {
   "cell_type": "code",
   "execution_count": 33,
   "metadata": {},
   "outputs": [],
   "source": [
    "def FacSimple(n):\n",
    "\n",
    "    #Обчислення факторіала за допомогою  цикла while\n",
    "    \n",
    "    factorial = 1\n",
    "    i = 1 \n",
    "    \n",
    "    while i <= n:\n",
    "        factorial *= i\n",
    "        i += 1\n",
    "    \n",
    "    return factorial\n",
    "    "
   ]
  },
  {
   "cell_type": "code",
   "execution_count": 34,
   "metadata": {},
   "outputs": [
    {
     "data": {
      "text/plain": [
       "120"
      ]
     },
     "execution_count": 34,
     "metadata": {},
     "output_type": "execute_result"
    }
   ],
   "source": [
    "FacSimple(5)"
   ]
  },
  {
   "cell_type": "markdown",
   "metadata": {},
   "source": [
    "__Завдання на самостійну роботу.__ Реалізувати процедуру обчислення факторіалу за допомогою цикла __for__. Оцінити асимптотичну складність алгоритму."
   ]
  },
  {
   "cell_type": "code",
   "execution_count": 35,
   "metadata": {},
   "outputs": [],
   "source": [
    "def FacFor(n):\n",
    "\n",
    "    #Обчислення факторіала за допомогою  цикла while\n",
    "    \n",
    "    factorial = 1\n",
    "    i = 1 \n",
    "    for i in range(n):\n",
    "        factorial*=(i+1)\n",
    "    \n",
    "    return factorial\n",
    "    "
   ]
  },
  {
   "cell_type": "code",
   "execution_count": 36,
   "metadata": {},
   "outputs": [
    {
     "data": {
      "text/plain": [
       "120"
      ]
     },
     "execution_count": 36,
     "metadata": {},
     "output_type": "execute_result"
    }
   ],
   "source": [
    "FacFor(5)"
   ]
  },
  {
   "cell_type": "markdown",
   "metadata": {},
   "source": [
    "Обчислимо факторіал за допомогою рекурсії."
   ]
  },
  {
   "cell_type": "code",
   "execution_count": 37,
   "metadata": {},
   "outputs": [],
   "source": [
    "def fac(n):\n",
    "    \n",
    "    # Обчислення факторіала через рекурсію\n",
    "    \n",
    "    if n == 0:\n",
    "        return(1)\n",
    "    return fac(n-1) * n"
   ]
  },
  {
   "cell_type": "code",
   "execution_count": 38,
   "metadata": {},
   "outputs": [
    {
     "name": "stdin",
     "output_type": "stream",
     "text": [
      " 5\n"
     ]
    },
    {
     "data": {
      "text/plain": [
       "120"
      ]
     },
     "execution_count": 38,
     "metadata": {},
     "output_type": "execute_result"
    }
   ],
   "source": [
    "n = int(input())\n",
    "fac(n)"
   ]
  },
  {
   "cell_type": "markdown",
   "metadata": {},
   "source": [
    "Пакет `math` мови `Python` має  функцію для обчислення факторіала: "
   ]
  },
  {
   "cell_type": "code",
   "execution_count": 39,
   "metadata": {},
   "outputs": [
    {
     "data": {
      "text/plain": [
       "120"
      ]
     },
     "execution_count": 39,
     "metadata": {},
     "output_type": "execute_result"
    }
   ],
   "source": [
    "import math\n",
    "\n",
    "math.factorial(5)"
   ]
  },
  {
   "cell_type": "markdown",
   "metadata": {},
   "source": [
    "__Завдання на самостійну роботу.__ Оцінити асимптотичну складність рекурсивного алгоритму обчислення факторіалу."
   ]
  },
  {
   "cell_type": "markdown",
   "metadata": {},
   "source": [
    "Всередині рекурсивного алгоритму немає циклів, одне проходження буде мати лінійну складність. \n",
    "В найкращому випадку коли n=0 складність буде константою. В найгіршому O(n)."
   ]
  },
  {
   "cell_type": "markdown",
   "metadata": {},
   "source": [
    "## Обчислення чисел Фібоначчі"
   ]
  },
  {
   "cell_type": "markdown",
   "metadata": {},
   "source": [
    "$\\{0,1,1,2,3,5,8,13,21,34,...\\}$\n",
    "\n",
    "_Рекурентна форма визначення:_\n",
    "\n",
    "$\\begin{equation*}\n",
    "F_n = \n",
    "\\begin{cases}\n",
    "0, &\\text{якщо $n=0$,}\\\\\n",
    "1, &\\text{якщо $n=1$,}\\\\\n",
    "F_{n-1}+F_{n-2}, &\\text{якщо $n>1$.}\n",
    "\\end{cases}\n",
    "\\end{equation*}$"
   ]
  },
  {
   "cell_type": "code",
   "execution_count": 40,
   "metadata": {},
   "outputs": [],
   "source": [
    "def fibonacci(n):\n",
    "    \n",
    "    #Рекурсивне обчислення n-го числа Фібоначчі\n",
    "    \n",
    "    if n == 0:\n",
    "        return 0\n",
    "    if n in (1, 2):\n",
    "        return 1\n",
    "    return fibonacci(n - 1) + fibonacci(n - 2)"
   ]
  },
  {
   "cell_type": "code",
   "execution_count": 41,
   "metadata": {},
   "outputs": [
    {
     "name": "stdout",
     "output_type": "stream",
     "text": [
      "832040\n"
     ]
    }
   ],
   "source": [
    "print(fibonacci(30))"
   ]
  },
  {
   "cell_type": "markdown",
   "metadata": {},
   "source": [
    "__Завдання на самостійну роботу.__ Оцінити асимптотичну складність рекурсивного алгоритму обчислення $n$-го числа Фібоначчі."
   ]
  },
  {
   "cell_type": "markdown",
   "metadata": {},
   "source": [
    "Всередині рекурсивного алгоритму немає циклів, одне проходження буде мати лінійну складність. \n",
    "В найкращому випадку коли n=0,1,2 складність буде константою. В інших випадках O(n)."
   ]
  },
  {
   "cell_type": "markdown",
   "metadata": {},
   "source": [
    "\n",
    "## Сортування злиттям"
   ]
  },
  {
   "cell_type": "code",
   "execution_count": 42,
   "metadata": {},
   "outputs": [],
   "source": [
    "def merge(left, right):\n",
    "    \n",
    "    #Зливає два відсортованих масиви left і right у один\n",
    "    \n",
    "    result = []\n",
    "    i, j = 0, 0\n",
    "    while i < len(left) and j < len(right):\n",
    "        if left[i] <= right[j]:\n",
    "            result.append(left[i])\n",
    "            i += 1\n",
    "        else:\n",
    "            result.append(right[j])\n",
    "            j += 1\n",
    "    result += left[i:]\n",
    "    result += right[j:]\n",
    "    return result\n",
    "\n",
    "def mergesort(list):\n",
    "    \n",
    "    #Рекурсивна функція сортування з використанням попередньої функції\n",
    "    \n",
    "    if len(list) < 2:\n",
    "        return list\n",
    "    middle = len(list) // 2\n",
    "    left = mergesort(list[:middle])\n",
    "    right = mergesort(list[middle:])\n",
    "    return merge(left, right)"
   ]
  },
  {
   "cell_type": "code",
   "execution_count": 43,
   "metadata": {},
   "outputs": [],
   "source": [
    "a = [6, 5, 3, 1, 8, 7, 2, 4]"
   ]
  },
  {
   "cell_type": "code",
   "execution_count": 44,
   "metadata": {},
   "outputs": [
    {
     "data": {
      "text/plain": [
       "[1, 2, 2, 3, 4, 5, 6, 7]"
      ]
     },
     "execution_count": 44,
     "metadata": {},
     "output_type": "execute_result"
    }
   ],
   "source": [
    "merge([2, 4, 5, 7], [1, 2, 3, 6])"
   ]
  },
  {
   "cell_type": "code",
   "execution_count": 45,
   "metadata": {},
   "outputs": [
    {
     "data": {
      "text/plain": [
       "[1, 2, 3, 4, 5, 6, 7, 8]"
      ]
     },
     "execution_count": 45,
     "metadata": {},
     "output_type": "execute_result"
    }
   ],
   "source": [
    "mergesort(a)"
   ]
  },
  {
   "cell_type": "markdown",
   "metadata": {},
   "source": [
    "__Завдання на самостійну роботу__. Оцінити асимптотичну складність алгоритму сортування злиттям, використовуючи основну теорему рекурсії."
   ]
  },
  {
   "cell_type": "markdown",
   "metadata": {},
   "source": [
    "Рекурсивна функція має складність O(n), a=b=2, тоді d=1, отже $d=log_ba$. Складність алгоритму O(nlogn)"
   ]
  },
  {
   "cell_type": "markdown",
   "metadata": {},
   "source": [
    "## Контрольні запитання"
   ]
  },
  {
   "cell_type": "markdown",
   "metadata": {},
   "source": [
    "1. Дати визначення складності задачі з символом $\\Omega$.\n",
    "   \n",
    "   Це задача, що відображає нижню асимптотичну межу.\n",
    "\n",
    "1. Функція часової складності має вигляд: $F(N)=N^3+7N^2-14N$. Як записати аисмптотичну складність в нотації $O()$?\n",
    "   \n",
    "   O(n^3).\n",
    "\n",
    "1. Функція часової складності має вигляд: $F(N)=1.01^N+N^{10}$. Як записати аисмптотичну складність в нотації $O()$?\n",
    "   \n",
    "   O(1.01^N)\n",
    "\n",
    "1. Функція часової складності має вигляд: $F(N)=N^{1.3}+10log_2N$. Як записати аисмптотичну складність в нотації $O()$?\n",
    "   \n",
    "   O(N^1.3)\n",
    "\n",
    "1. У чому полягає ідея розпаралелювання обчислень і для чого вона використовується? Які з алгоритмів, наведених у цій лабораторній роботі, дозволяють розпаралелювання?\n",
    "   \n",
    "   Вона використовується в рекурсивних алгоритмах для поділу задачі для простішого розв'язання. Це дозволяються усі алгоритми які використовують рекурсію (факторіал з рекурсією, числа Фібоначчі, сортування злиттям).\n",
    "\n",
    "1. Які існують шляхи підвищення обчислювальної швидкості алгоритмів? Який з них є найбільш ефективним?\n",
    "   \n",
    "   Оптимізація алгоритму та використання більш ефективного алгоритму. Перший шлях вплине на константу і він є менш ефективним, другий шлях можи давати набагато більш ефективні результати.\n",
    "   "
   ]
  }
 ],
 "metadata": {
  "kernelspec": {
   "display_name": "Python 3 (ipykernel)",
   "language": "python",
   "name": "python3"
  },
  "language_info": {
   "codemirror_mode": {
    "name": "ipython",
    "version": 3
   },
   "file_extension": ".py",
   "mimetype": "text/x-python",
   "name": "python",
   "nbconvert_exporter": "python",
   "pygments_lexer": "ipython3",
   "version": "3.12.2"
  }
 },
 "nbformat": 4,
 "nbformat_minor": 4
}
